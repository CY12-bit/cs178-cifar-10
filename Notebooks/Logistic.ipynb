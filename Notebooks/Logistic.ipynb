{
 "cells": [
  {
   "cell_type": "markdown",
   "metadata": {},
   "source": [
    "## Logistic Regression\n",
    "| Reece Buyan"
   ]
  },
  {
   "cell_type": "code",
   "execution_count": 1,
   "metadata": {},
   "outputs": [],
   "source": [
    "from cifar10_import import *\n",
    "from sklearn.linear_model import LogisticRegression\n",
    "\n",
    "import math\n",
    "import numpy as np"
   ]
  },
  {
   "cell_type": "code",
   "execution_count": 2,
   "metadata": {},
   "outputs": [],
   "source": [
    "x_images, y_labels = importCifar10(\"combined\")"
   ]
  },
  {
   "cell_type": "code",
   "execution_count": 3,
   "metadata": {},
   "outputs": [],
   "source": [
    "# Creating the training and testing sets (training is 60% of total)\n",
    "X_train, X_test, y_train, y_test = train_test_split(x_images,y_labels,test_size=0.6,stratify=y_labels,shuffle=True)\n",
    "\n",
    "# Create Validation Set (50% of test set)\n",
    "X_val, X_test, y_val, y_test = train_test_split(X_test,y_test,test_size=0.5,stratify=y_test,shuffle=True)"
   ]
  },
  {
   "cell_type": "code",
   "execution_count": 4,
   "metadata": {},
   "outputs": [],
   "source": [
    "# Helper functions to create a forward pass of logistic regression\n",
    "def sigmoid(z):\n",
    "    if isinstance(z, np.ndarray):\n",
    "        return 1 / (1 + np.exp(-z))\n",
    "    else:\n",
    "        return 1 / (1 + math.exp(-z))\n",
    "\n",
    "def logistic_prob(theta_0, theta_1, theta_2, x_1, x_2):\n",
    "    z = theta_0 + theta_1 * x_1 + theta_2 * x_2\n",
    "    prob_y1 = sigmoid(z)\n",
    "    return prob_y1\n",
    "\n",
    "def logistic_loss(theta_0, theta_1, theta_2, x_1, x_2, y):\n",
    "    prob_y1 = logistic_prob(theta_0, theta_1, theta_2, x_1, x_2)\n",
    "    cross_entropy = -np.mean(y * np.log(prob_y1) + (1 - y) * np.log(1 - prob_y1))\n",
    "    return cross_entropy"
   ]
  },
  {
   "cell_type": "code",
   "execution_count": null,
   "metadata": {},
   "outputs": [],
   "source": []
  }
 ],
 "metadata": {
  "kernelspec": {
   "display_name": "Python 3",
   "language": "python",
   "name": "python3"
  },
  "language_info": {
   "codemirror_mode": {
    "name": "ipython",
    "version": 3
   },
   "file_extension": ".py",
   "mimetype": "text/x-python",
   "name": "python",
   "nbconvert_exporter": "python",
   "pygments_lexer": "ipython3",
   "version": "3.10.13"
  }
 },
 "nbformat": 4,
 "nbformat_minor": 2
}
