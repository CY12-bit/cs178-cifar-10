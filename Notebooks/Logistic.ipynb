{
 "cells": [
  {
   "cell_type": "markdown",
   "metadata": {},
   "source": [
    "## Logistic Regression\n",
    "| Reece Buyan"
   ]
  },
  {
   "cell_type": "code",
   "execution_count": 2,
   "metadata": {},
   "outputs": [],
   "source": [
    "from cifar10_import import *\n",
    "from sklearn.linear_model import LogisticRegression\n",
    "from sklearn.metrics import classification_report\n",
    "\n",
    "import math\n",
    "import numpy as np"
   ]
  },
  {
   "cell_type": "code",
   "execution_count": 3,
   "metadata": {},
   "outputs": [],
   "source": [
    "x_images, y_labels = importCifar10(\"combined\")"
   ]
  },
  {
   "cell_type": "code",
   "execution_count": 4,
   "metadata": {},
   "outputs": [],
   "source": [
    "# Flatten the images to use as input for logistic regression\n",
    "flattened_x_img = flattenImageSet(x_images)"
   ]
  },
  {
   "cell_type": "code",
   "execution_count": 6,
   "metadata": {},
   "outputs": [],
   "source": [
    "# Created the training dataset (60% is )\n",
    "X_train, X_test, y_train, y_test = train_test_split(flattened_x_img, y_labels, test_size=0.6, stratify=y_labels, shuffle=True)\n",
    "\n",
    "# Further split X_test into validation and test sets\n",
    "X_val, X_test, y_val, y_test = train_test_split(X_test, y_test, test_size=0.5, stratify=y_test, shuffle=True)"
   ]
  },
  {
   "cell_type": "code",
   "execution_count": 7,
   "metadata": {},
   "outputs": [],
   "source": [
    "# Scale images to help with model convergence\n",
    "X_train_scaled, scaler = scaleImages(X_train)\n",
    "X_val_scaled = scaleImages(X_val, scaler)\n",
    "X_test_scaled = scaleImages(X_test, scaler)"
   ]
  },
  {
   "cell_type": "code",
   "execution_count": 11,
   "metadata": {},
   "outputs": [],
   "source": [
    "# Incorrectly created a classifier (y_pred should have used X_test instead of X_train)\n",
    "classifier = LogisticRegression(penalty = 'l1', solver = 'liblinear', fit_intercept = True)\n",
    "classifier.fit(X_train_scaled, y_train)\n",
    "\n",
    "y_pred = classifier.predict(X_train_scaled)\n",
    "print(\"Accuracy on test set:\", accuracy_score(y_test, y_pred))\n",
    "print(classification_report(y_test, y_pred, target_names=class_names))"
   ]
  },
  {
   "cell_type": "code",
   "execution_count": 8,
   "metadata": {},
   "outputs": [],
   "source": [
    "# Made the necessary adjustments for the classifier\n",
    "classifier = LogisticRegression(penalty = 'l1', solver = 'liblinear', fit_intercept = True)\n",
    "classifier.fit(X_train_scaled, y_train)\n",
    "\n",
    "y_pred = classifier.predict(X_test_scaled)\n",
    "print(\"Accuracy on test set:\", accuracy_score(y_test, y_pred))\n",
    "print(classification_report(y_test, y_pred, target_names=class_names))"
   ]
  },
  {
   "cell_type": "code",
   "execution_count": 4,
   "metadata": {},
   "outputs": [],
   "source": [
    "# Helper functions to create a forward pass of logistic regression\n",
    "# def sigmoid(z):\n",
    "#     if isinstance(z, np.ndarray):\n",
    "#         return 1 / (1 + np.exp(-z))\n",
    "#     else:\n",
    "#         return 1 / (1 + math.exp(-z))\n",
    "\n",
    "# def logistic_prob(theta_0, theta_1, theta_2, x_1, x_2):\n",
    "#     z = theta_0 + theta_1 * x_1 + theta_2 * x_2\n",
    "#     prob_y1 = sigmoid(z)\n",
    "#     return prob_y1\n",
    "\n",
    "# def logistic_loss(theta_0, theta_1, theta_2, x_1, x_2, y):\n",
    "#     prob_y1 = logistic_prob(theta_0, theta_1, theta_2, x_1, x_2)\n",
    "#     cross_entropy = -np.mean(y * np.log(prob_y1) + (1 - y) * np.log(1 - prob_y1))\n",
    "#     return cross_entropy"
   ]
  },
  {
   "cell_type": "code",
   "execution_count": null,
   "metadata": {},
   "outputs": [],
   "source": []
  }
 ],
 "metadata": {
  "kernelspec": {
   "display_name": "Python 3",
   "language": "python",
   "name": "python3"
  },
  "language_info": {
   "codemirror_mode": {
    "name": "ipython",
    "version": 3
   },
   "file_extension": ".py",
   "mimetype": "text/x-python",
   "name": "python",
   "nbconvert_exporter": "python",
   "pygments_lexer": "ipython3",
   "version": "3.10.13"
  }
 },
 "nbformat": 4,
 "nbformat_minor": 2
}
