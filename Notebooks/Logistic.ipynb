{
 "cells": [
  {
   "cell_type": "markdown",
   "metadata": {},
   "source": [
    "## Logistic Regression\n",
    "| Reece Buyan"
   ]
  },
  {
   "cell_type": "code",
   "execution_count": 6,
   "metadata": {},
   "outputs": [],
   "source": [
    "from cifar10_import import *\n",
    "from sklearn.linear_model import LogisticRegression\n",
    "from sklearn.metrics import classification_report\n",
    "from sklearn.ensemble import AdaBoostClassifier\n",
    "from sklearn.metrics import accuracy_score, classification_report"
   ]
  },
  {
   "cell_type": "code",
   "execution_count": 2,
   "metadata": {},
   "outputs": [],
   "source": [
    "x_images, y_labels = importCifar10(\"combined\")"
   ]
  },
  {
   "cell_type": "code",
   "execution_count": 3,
   "metadata": {},
   "outputs": [],
   "source": [
    "# Flatten the images to use as input for logistic regression\n",
    "flattened_x_img = flattenImageSet(x_images)"
   ]
  },
  {
   "cell_type": "code",
   "execution_count": 4,
   "metadata": {},
   "outputs": [],
   "source": [
    "# Created the training dataset (60% is )\n",
    "X_train, X_test, y_train, y_test = train_test_split(flattened_x_img, y_labels, test_size=0.6, stratify=y_labels, shuffle=True)\n",
    "\n",
    "# Further split X_test into validation and test sets\n",
    "X_val, X_test, y_val, y_test = train_test_split(X_test, y_test, test_size=0.5, stratify=y_test, shuffle=True)"
   ]
  },
  {
   "cell_type": "code",
   "execution_count": 9,
   "metadata": {},
   "outputs": [],
   "source": [
    "# Scale images to help with model convergence\n",
    "X_train_scaled, scaler = scaleImages(X_train)\n",
    "X_val_scaled = scaleImages(X_val, scaler)\n",
    "X_test_scaled = scaleImages(X_test, scaler)"
   ]
  },
  {
   "cell_type": "code",
   "execution_count": 11,
   "metadata": {},
   "outputs": [],
   "source": [
    "# Incorrectly created a classifier (y_pred should have used X_test instead of X_train)\n",
    "classifier = LogisticRegression(penalty = 'l1', solver = 'liblinear', fit_intercept = True)\n",
    "classifier.fit(X_train_scaled, y_train)\n",
    "\n",
    "y_pred = classifier.predict(X_train_scaled)\n",
    "print(\"Accuracy on test set:\", accuracy_score(y_test, y_pred))\n",
    "print(classification_report(y_test, y_pred, target_names=class_names))"
   ]
  },
  {
   "cell_type": "code",
   "execution_count": 8,
   "metadata": {},
   "outputs": [
    {
     "name": "stdout",
     "output_type": "stream",
     "text": [
      "Accuracy on test set: 0.34755555555555556\n",
      "              precision    recall  f1-score   support\n",
      "\n",
      "    airplane       0.41      0.46      0.43      1800\n",
      "  automobile       0.40      0.41      0.40      1800\n",
      "        bird       0.27      0.23      0.25      1800\n",
      "         cat       0.22      0.21      0.22      1800\n",
      "        deer       0.31      0.29      0.30      1800\n",
      "         dog       0.28      0.28      0.28      1800\n",
      "        frog       0.34      0.37      0.35      1800\n",
      "       horse       0.37      0.36      0.36      1800\n",
      "        ship       0.45      0.49      0.47      1800\n",
      "       truck       0.38      0.38      0.38      1800\n",
      "\n",
      "    accuracy                           0.35     18000\n",
      "   macro avg       0.34      0.35      0.35     18000\n",
      "weighted avg       0.34      0.35      0.35     18000\n",
      "\n"
     ]
    }
   ],
   "source": [
    "# Made the necessary adjustments for the classifier\n",
    "classifier = LogisticRegression(penalty = 'l1', solver = 'liblinear', fit_intercept = True)\n",
    "classifier.fit(X_train_scaled, y_train)\n",
    "\n",
    "y_pred = classifier.predict(X_test_scaled)\n",
    "print(\"Accuracy on test set:\", accuracy_score(y_test, y_pred))\n",
    "print(classification_report(y_test, y_pred, target_names=class_names))"
   ]
  },
  {
   "cell_type": "code",
   "execution_count": 8,
   "metadata": {},
   "outputs": [
    {
     "name": "stdout",
     "output_type": "stream",
     "text": [
      "Accuracy on test set: 0.33505555555555555\n",
      "              precision    recall  f1-score   support\n",
      "\n",
      "    airplane       0.40      0.41      0.41      1800\n",
      "  automobile       0.39      0.39      0.39      1800\n",
      "        bird       0.24      0.22      0.23      1800\n",
      "         cat       0.23      0.22      0.22      1800\n",
      "        deer       0.29      0.28      0.28      1800\n",
      "         dog       0.26      0.26      0.26      1800\n",
      "        frog       0.33      0.35      0.34      1800\n",
      "       horse       0.38      0.37      0.38      1800\n",
      "        ship       0.43      0.47      0.45      1800\n",
      "       truck       0.37      0.37      0.37      1800\n",
      "\n",
      "    accuracy                           0.34     18000\n",
      "   macro avg       0.33      0.34      0.33     18000\n",
      "weighted avg       0.33      0.34      0.33     18000\n",
      "\n"
     ]
    }
   ],
   "source": [
    "# Used l2 penalty to handle multinomal loss\n",
    "classifier = LogisticRegression(penalty = 'l2', solver = 'liblinear', fit_intercept = True)\n",
    "classifier.fit(X_train_scaled, y_train)\n",
    "\n",
    "y_pred = classifier.predict(X_test_scaled)\n",
    "print(\"Accuracy on test set:\", accuracy_score(y_test, y_pred))\n",
    "print(classification_report(y_test, y_pred, target_names=class_names))"
   ]
  },
  {
   "cell_type": "code",
   "execution_count": 9,
   "metadata": {},
   "outputs": [
    {
     "name": "stderr",
     "output_type": "stream",
     "text": [
      "c:\\Users\\eceer\\miniconda3\\envs\\cs178\\lib\\site-packages\\sklearn\\linear_model\\_sag.py:350: ConvergenceWarning: The max_iter was reached which means the coef_ did not converge\n",
      "  warnings.warn(\n"
     ]
    },
    {
     "name": "stdout",
     "output_type": "stream",
     "text": [
      "Accuracy on test set: 0.37583333333333335\n",
      "              precision    recall  f1-score   support\n",
      "\n",
      "    airplane       0.44      0.47      0.45      1800\n",
      "  automobile       0.44      0.45      0.44      1800\n",
      "        bird       0.28      0.25      0.27      1800\n",
      "         cat       0.25      0.24      0.24      1800\n",
      "        deer       0.33      0.31      0.32      1800\n",
      "         dog       0.29      0.28      0.29      1800\n",
      "        frog       0.38      0.41      0.39      1800\n",
      "       horse       0.43      0.41      0.42      1800\n",
      "        ship       0.48      0.51      0.50      1800\n",
      "       truck       0.42      0.43      0.42      1800\n",
      "\n",
      "    accuracy                           0.38     18000\n",
      "   macro avg       0.37      0.38      0.37     18000\n",
      "weighted avg       0.37      0.38      0.37     18000\n",
      "\n"
     ]
    }
   ],
   "source": [
    "# Additionally used l2 penalty and sage solver to handle multinomal loss and a larger dataset\n",
    "classifier = LogisticRegression(penalty = 'l2', solver = 'saga', fit_intercept = True)\n",
    "classifier.fit(X_train_scaled, y_train)\n",
    "\n",
    "y_pred = classifier.predict(X_test_scaled)\n",
    "print(\"Accuracy on test set:\", accuracy_score(y_test, y_pred))\n",
    "print(classification_report(y_test, y_pred, target_names=class_names))"
   ]
  },
  {
   "cell_type": "code",
   "execution_count": 10,
   "metadata": {},
   "outputs": [
    {
     "name": "stderr",
     "output_type": "stream",
     "text": [
      "c:\\Users\\eceer\\miniconda3\\envs\\cs178\\lib\\site-packages\\sklearn\\linear_model\\_sag.py:350: ConvergenceWarning: The max_iter was reached which means the coef_ did not converge\n",
      "  warnings.warn(\n"
     ]
    },
    {
     "name": "stdout",
     "output_type": "stream",
     "text": [
      "Accuracy on test set: 0.3755\n",
      "              precision    recall  f1-score   support\n",
      "\n",
      "    airplane       0.44      0.47      0.45      1800\n",
      "  automobile       0.43      0.45      0.44      1800\n",
      "        bird       0.28      0.25      0.26      1800\n",
      "         cat       0.25      0.23      0.24      1800\n",
      "        deer       0.33      0.31      0.32      1800\n",
      "         dog       0.29      0.28      0.29      1800\n",
      "        frog       0.38      0.41      0.39      1800\n",
      "       horse       0.43      0.41      0.42      1800\n",
      "        ship       0.48      0.51      0.50      1800\n",
      "       truck       0.42      0.43      0.42      1800\n",
      "\n",
      "    accuracy                           0.38     18000\n",
      "   macro avg       0.37      0.38      0.37     18000\n",
      "weighted avg       0.37      0.38      0.37     18000\n",
      "\n"
     ]
    }
   ],
   "source": [
    "# Added the multi_class parameter\n",
    "classifier = LogisticRegression(multi_class='multinomial', solver='saga', fit_intercept = True)\n",
    "classifier.fit(X_train_scaled, y_train)\n",
    "\n",
    "y_pred = classifier.predict(X_test_scaled)\n",
    "print(\"Accuracy on test set:\", accuracy_score(y_test, y_pred))\n",
    "print(classification_report(y_test, y_pred, target_names=class_names))"
   ]
  },
  {
   "cell_type": "markdown",
   "metadata": {},
   "source": [
    "To further increase the performance of my model, I will implement Adaboosting and see how\n",
    "this implementation affects the outcome of the accuracy."
   ]
  },
  {
   "cell_type": "code",
   "execution_count": 7,
   "metadata": {},
   "outputs": [],
   "source": [
    "# Initialize the base classifier\n",
    "base_classifier = LogisticRegression(penalty='l2', solver='saga', fit_intercept=True, max_iter=100)"
   ]
  },
  {
   "cell_type": "code",
   "execution_count": 10,
   "metadata": {},
   "outputs": [
    {
     "name": "stderr",
     "output_type": "stream",
     "text": [
      "c:\\Users\\eceer\\miniconda3\\envs\\cs178\\lib\\site-packages\\sklearn\\ensemble\\_base.py:156: FutureWarning: `base_estimator` was renamed to `estimator` in version 1.2 and will be removed in 1.4.\n",
      "  warnings.warn(\n",
      "c:\\Users\\eceer\\miniconda3\\envs\\cs178\\lib\\site-packages\\sklearn\\linear_model\\_sag.py:350: ConvergenceWarning: The max_iter was reached which means the coef_ did not converge\n",
      "  warnings.warn(\n",
      "c:\\Users\\eceer\\miniconda3\\envs\\cs178\\lib\\site-packages\\sklearn\\linear_model\\_sag.py:350: ConvergenceWarning: The max_iter was reached which means the coef_ did not converge\n",
      "  warnings.warn(\n",
      "c:\\Users\\eceer\\miniconda3\\envs\\cs178\\lib\\site-packages\\sklearn\\linear_model\\_sag.py:350: ConvergenceWarning: The max_iter was reached which means the coef_ did not converge\n",
      "  warnings.warn(\n",
      "c:\\Users\\eceer\\miniconda3\\envs\\cs178\\lib\\site-packages\\sklearn\\linear_model\\_sag.py:350: ConvergenceWarning: The max_iter was reached which means the coef_ did not converge\n",
      "  warnings.warn(\n",
      "c:\\Users\\eceer\\miniconda3\\envs\\cs178\\lib\\site-packages\\sklearn\\linear_model\\_sag.py:350: ConvergenceWarning: The max_iter was reached which means the coef_ did not converge\n",
      "  warnings.warn(\n",
      "c:\\Users\\eceer\\miniconda3\\envs\\cs178\\lib\\site-packages\\sklearn\\linear_model\\_sag.py:350: ConvergenceWarning: The max_iter was reached which means the coef_ did not converge\n",
      "  warnings.warn(\n",
      "c:\\Users\\eceer\\miniconda3\\envs\\cs178\\lib\\site-packages\\sklearn\\linear_model\\_sag.py:350: ConvergenceWarning: The max_iter was reached which means the coef_ did not converge\n",
      "  warnings.warn(\n",
      "c:\\Users\\eceer\\miniconda3\\envs\\cs178\\lib\\site-packages\\sklearn\\linear_model\\_sag.py:350: ConvergenceWarning: The max_iter was reached which means the coef_ did not converge\n",
      "  warnings.warn(\n",
      "c:\\Users\\eceer\\miniconda3\\envs\\cs178\\lib\\site-packages\\sklearn\\linear_model\\_sag.py:350: ConvergenceWarning: The max_iter was reached which means the coef_ did not converge\n",
      "  warnings.warn(\n",
      "c:\\Users\\eceer\\miniconda3\\envs\\cs178\\lib\\site-packages\\sklearn\\linear_model\\_sag.py:350: ConvergenceWarning: The max_iter was reached which means the coef_ did not converge\n",
      "  warnings.warn(\n"
     ]
    },
    {
     "data": {
      "text/html": [
       "<style>#sk-container-id-1 {color: black;}#sk-container-id-1 pre{padding: 0;}#sk-container-id-1 div.sk-toggleable {background-color: white;}#sk-container-id-1 label.sk-toggleable__label {cursor: pointer;display: block;width: 100%;margin-bottom: 0;padding: 0.3em;box-sizing: border-box;text-align: center;}#sk-container-id-1 label.sk-toggleable__label-arrow:before {content: \"▸\";float: left;margin-right: 0.25em;color: #696969;}#sk-container-id-1 label.sk-toggleable__label-arrow:hover:before {color: black;}#sk-container-id-1 div.sk-estimator:hover label.sk-toggleable__label-arrow:before {color: black;}#sk-container-id-1 div.sk-toggleable__content {max-height: 0;max-width: 0;overflow: hidden;text-align: left;background-color: #f0f8ff;}#sk-container-id-1 div.sk-toggleable__content pre {margin: 0.2em;color: black;border-radius: 0.25em;background-color: #f0f8ff;}#sk-container-id-1 input.sk-toggleable__control:checked~div.sk-toggleable__content {max-height: 200px;max-width: 100%;overflow: auto;}#sk-container-id-1 input.sk-toggleable__control:checked~label.sk-toggleable__label-arrow:before {content: \"▾\";}#sk-container-id-1 div.sk-estimator input.sk-toggleable__control:checked~label.sk-toggleable__label {background-color: #d4ebff;}#sk-container-id-1 div.sk-label input.sk-toggleable__control:checked~label.sk-toggleable__label {background-color: #d4ebff;}#sk-container-id-1 input.sk-hidden--visually {border: 0;clip: rect(1px 1px 1px 1px);clip: rect(1px, 1px, 1px, 1px);height: 1px;margin: -1px;overflow: hidden;padding: 0;position: absolute;width: 1px;}#sk-container-id-1 div.sk-estimator {font-family: monospace;background-color: #f0f8ff;border: 1px dotted black;border-radius: 0.25em;box-sizing: border-box;margin-bottom: 0.5em;}#sk-container-id-1 div.sk-estimator:hover {background-color: #d4ebff;}#sk-container-id-1 div.sk-parallel-item::after {content: \"\";width: 100%;border-bottom: 1px solid gray;flex-grow: 1;}#sk-container-id-1 div.sk-label:hover label.sk-toggleable__label {background-color: #d4ebff;}#sk-container-id-1 div.sk-serial::before {content: \"\";position: absolute;border-left: 1px solid gray;box-sizing: border-box;top: 0;bottom: 0;left: 50%;z-index: 0;}#sk-container-id-1 div.sk-serial {display: flex;flex-direction: column;align-items: center;background-color: white;padding-right: 0.2em;padding-left: 0.2em;position: relative;}#sk-container-id-1 div.sk-item {position: relative;z-index: 1;}#sk-container-id-1 div.sk-parallel {display: flex;align-items: stretch;justify-content: center;background-color: white;position: relative;}#sk-container-id-1 div.sk-item::before, #sk-container-id-1 div.sk-parallel-item::before {content: \"\";position: absolute;border-left: 1px solid gray;box-sizing: border-box;top: 0;bottom: 0;left: 50%;z-index: -1;}#sk-container-id-1 div.sk-parallel-item {display: flex;flex-direction: column;z-index: 1;position: relative;background-color: white;}#sk-container-id-1 div.sk-parallel-item:first-child::after {align-self: flex-end;width: 50%;}#sk-container-id-1 div.sk-parallel-item:last-child::after {align-self: flex-start;width: 50%;}#sk-container-id-1 div.sk-parallel-item:only-child::after {width: 0;}#sk-container-id-1 div.sk-dashed-wrapped {border: 1px dashed gray;margin: 0 0.4em 0.5em 0.4em;box-sizing: border-box;padding-bottom: 0.4em;background-color: white;}#sk-container-id-1 div.sk-label label {font-family: monospace;font-weight: bold;display: inline-block;line-height: 1.2em;}#sk-container-id-1 div.sk-label-container {text-align: center;}#sk-container-id-1 div.sk-container {/* jupyter's `normalize.less` sets `[hidden] { display: none; }` but bootstrap.min.css set `[hidden] { display: none !important; }` so we also need the `!important` here to be able to override the default hidden behavior on the sphinx rendered scikit-learn.org. See: https://github.com/scikit-learn/scikit-learn/issues/21755 */display: inline-block !important;position: relative;}#sk-container-id-1 div.sk-text-repr-fallback {display: none;}</style><div id=\"sk-container-id-1\" class=\"sk-top-container\"><div class=\"sk-text-repr-fallback\"><pre>AdaBoostClassifier(algorithm=&#x27;SAMME&#x27;,\n",
       "                   base_estimator=LogisticRegression(solver=&#x27;saga&#x27;))</pre><b>In a Jupyter environment, please rerun this cell to show the HTML representation or trust the notebook. <br />On GitHub, the HTML representation is unable to render, please try loading this page with nbviewer.org.</b></div><div class=\"sk-container\" hidden><div class=\"sk-item sk-dashed-wrapped\"><div class=\"sk-label-container\"><div class=\"sk-label sk-toggleable\"><input class=\"sk-toggleable__control sk-hidden--visually\" id=\"sk-estimator-id-1\" type=\"checkbox\" ><label for=\"sk-estimator-id-1\" class=\"sk-toggleable__label sk-toggleable__label-arrow\">AdaBoostClassifier</label><div class=\"sk-toggleable__content\"><pre>AdaBoostClassifier(algorithm=&#x27;SAMME&#x27;,\n",
       "                   base_estimator=LogisticRegression(solver=&#x27;saga&#x27;))</pre></div></div></div><div class=\"sk-parallel\"><div class=\"sk-parallel-item\"><div class=\"sk-item\"><div class=\"sk-label-container\"><div class=\"sk-label sk-toggleable\"><input class=\"sk-toggleable__control sk-hidden--visually\" id=\"sk-estimator-id-2\" type=\"checkbox\" ><label for=\"sk-estimator-id-2\" class=\"sk-toggleable__label sk-toggleable__label-arrow\">base_estimator: LogisticRegression</label><div class=\"sk-toggleable__content\"><pre>LogisticRegression(solver=&#x27;saga&#x27;)</pre></div></div></div><div class=\"sk-serial\"><div class=\"sk-item\"><div class=\"sk-estimator sk-toggleable\"><input class=\"sk-toggleable__control sk-hidden--visually\" id=\"sk-estimator-id-3\" type=\"checkbox\" ><label for=\"sk-estimator-id-3\" class=\"sk-toggleable__label sk-toggleable__label-arrow\">LogisticRegression</label><div class=\"sk-toggleable__content\"><pre>LogisticRegression(solver=&#x27;saga&#x27;)</pre></div></div></div></div></div></div></div></div></div></div>"
      ],
      "text/plain": [
       "AdaBoostClassifier(algorithm='SAMME',\n",
       "                   base_estimator=LogisticRegression(solver='saga'))"
      ]
     },
     "execution_count": 10,
     "metadata": {},
     "output_type": "execute_result"
    }
   ],
   "source": [
    "# Initialize AdaBoost with base_classifier from above\n",
    "# We use n_estimators as the number of models to iteratively train\n",
    "ada_classifier = AdaBoostClassifier(base_estimator=base_classifier, n_estimators=50, algorithm='SAMME')\n",
    "\n",
    "# Fit the AdaBoost classifier on the scaled training data\n",
    "ada_classifier.fit(X_train_scaled, y_train)"
   ]
  },
  {
   "cell_type": "code",
   "execution_count": 11,
   "metadata": {},
   "outputs": [
    {
     "name": "stderr",
     "output_type": "stream",
     "text": [
      "c:\\Users\\eceer\\miniconda3\\envs\\cs178\\lib\\site-packages\\sklearn\\ensemble\\_base.py:156: FutureWarning: `base_estimator` was renamed to `estimator` in version 1.2 and will be removed in 1.4.\n",
      "  warnings.warn(\n",
      "c:\\Users\\eceer\\miniconda3\\envs\\cs178\\lib\\site-packages\\sklearn\\linear_model\\_sag.py:350: ConvergenceWarning: The max_iter was reached which means the coef_ did not converge\n",
      "  warnings.warn(\n",
      "c:\\Users\\eceer\\miniconda3\\envs\\cs178\\lib\\site-packages\\sklearn\\linear_model\\_sag.py:350: ConvergenceWarning: The max_iter was reached which means the coef_ did not converge\n",
      "  warnings.warn(\n",
      "c:\\Users\\eceer\\miniconda3\\envs\\cs178\\lib\\site-packages\\sklearn\\linear_model\\_sag.py:350: ConvergenceWarning: The max_iter was reached which means the coef_ did not converge\n",
      "  warnings.warn(\n",
      "c:\\Users\\eceer\\miniconda3\\envs\\cs178\\lib\\site-packages\\sklearn\\linear_model\\_sag.py:350: ConvergenceWarning: The max_iter was reached which means the coef_ did not converge\n",
      "  warnings.warn(\n",
      "c:\\Users\\eceer\\miniconda3\\envs\\cs178\\lib\\site-packages\\sklearn\\linear_model\\_sag.py:350: ConvergenceWarning: The max_iter was reached which means the coef_ did not converge\n",
      "  warnings.warn(\n",
      "c:\\Users\\eceer\\miniconda3\\envs\\cs178\\lib\\site-packages\\sklearn\\linear_model\\_sag.py:350: ConvergenceWarning: The max_iter was reached which means the coef_ did not converge\n",
      "  warnings.warn(\n",
      "c:\\Users\\eceer\\miniconda3\\envs\\cs178\\lib\\site-packages\\sklearn\\linear_model\\_sag.py:350: ConvergenceWarning: The max_iter was reached which means the coef_ did not converge\n",
      "  warnings.warn(\n",
      "c:\\Users\\eceer\\miniconda3\\envs\\cs178\\lib\\site-packages\\sklearn\\linear_model\\_sag.py:350: ConvergenceWarning: The max_iter was reached which means the coef_ did not converge\n",
      "  warnings.warn(\n",
      "c:\\Users\\eceer\\miniconda3\\envs\\cs178\\lib\\site-packages\\sklearn\\linear_model\\_sag.py:350: ConvergenceWarning: The max_iter was reached which means the coef_ did not converge\n",
      "  warnings.warn(\n",
      "c:\\Users\\eceer\\miniconda3\\envs\\cs178\\lib\\site-packages\\sklearn\\linear_model\\_sag.py:350: ConvergenceWarning: The max_iter was reached which means the coef_ did not converge\n",
      "  warnings.warn(\n"
     ]
    }
   ],
   "source": [
    "# Fit the AdaBoost classifier on the scaled training data\n",
    "ada_classifier.fit(X_train_scaled, y_train)\n",
    "\n",
    "# Predict using AdaBoost classifier\n",
    "y_pred = ada_classifier.predict(X_test_scaled)"
   ]
  },
  {
   "cell_type": "code",
   "execution_count": 12,
   "metadata": {},
   "outputs": [
    {
     "name": "stdout",
     "output_type": "stream",
     "text": [
      "Accuracy on test set: 0.31533333333333335\n",
      "              precision    recall  f1-score   support\n",
      "\n",
      "    airplane       0.28      0.40      0.33      1800\n",
      "  automobile       0.35      0.30      0.32      1800\n",
      "        bird       0.24      0.14      0.18      1800\n",
      "         cat       0.24      0.11      0.15      1800\n",
      "        deer       0.34      0.19      0.24      1800\n",
      "         dog       0.30      0.31      0.31      1800\n",
      "        frog       0.30      0.52      0.38      1800\n",
      "       horse       0.40      0.26      0.32      1800\n",
      "        ship       0.35      0.50      0.41      1800\n",
      "       truck       0.34      0.41      0.37      1800\n",
      "\n",
      "    accuracy                           0.32     18000\n",
      "   macro avg       0.31      0.32      0.30     18000\n",
      "weighted avg       0.31      0.32      0.30     18000\n",
      "\n"
     ]
    }
   ],
   "source": [
    "print(\"Accuracy on test set:\", accuracy_score(y_test, y_pred))\n",
    "print(classification_report(y_test, y_pred, target_names=class_names))"
   ]
  },
  {
   "cell_type": "code",
   "execution_count": null,
   "metadata": {},
   "outputs": [],
   "source": []
  }
 ],
 "metadata": {
  "kernelspec": {
   "display_name": "Python 3",
   "language": "python",
   "name": "python3"
  },
  "language_info": {
   "codemirror_mode": {
    "name": "ipython",
    "version": 3
   },
   "file_extension": ".py",
   "mimetype": "text/x-python",
   "name": "python",
   "nbconvert_exporter": "python",
   "pygments_lexer": "ipython3",
   "version": "3.10.13"
  }
 },
 "nbformat": 4,
 "nbformat_minor": 2
}
