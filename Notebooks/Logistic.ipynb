{
 "cells": [
  {
   "cell_type": "markdown",
   "metadata": {},
   "source": [
    "## Logistic Regression\n",
    "| Reece Buyan"
   ]
  },
  {
   "cell_type": "code",
   "execution_count": 3,
   "metadata": {},
   "outputs": [],
   "source": [
    "from cifar10_import import *\n",
    "from sklearn.linear_model import LogisticRegression\n",
    "from sklearn.metrics import classification_report\n",
    "\n",
    "import math\n",
    "import numpy as np"
   ]
  },
  {
   "cell_type": "code",
   "execution_count": 4,
   "metadata": {},
   "outputs": [],
   "source": [
    "x_images, y_labels = importCifar10(\"combined\")"
   ]
  },
  {
   "cell_type": "code",
   "execution_count": 5,
   "metadata": {},
   "outputs": [],
   "source": [
    "# Flatten the images to use as input for logistic regression\n",
    "flattened_x_img = flattenImageSet(x_images)"
   ]
  },
  {
   "cell_type": "code",
   "execution_count": 6,
   "metadata": {},
   "outputs": [],
   "source": [
    "# Created the training dataset (60% is )\n",
    "X_train, X_test, y_train, y_test = train_test_split(flattened_x_img, y_labels, test_size=0.6, stratify=y_labels, shuffle=True)\n",
    "\n",
    "# Further split X_test into validation and test sets\n",
    "X_val, X_test, y_val, y_test = train_test_split(X_test, y_test, test_size=0.5, stratify=y_test, shuffle=True)"
   ]
  },
  {
   "cell_type": "code",
   "execution_count": 7,
   "metadata": {},
   "outputs": [],
   "source": [
    "# Scale images to help with model convergence\n",
    "X_train_scaled, scaler = scaleImages(X_train)\n",
    "X_val_scaled = scaleImages(X_val, scaler)\n",
    "X_test_scaled = scaleImages(X_test, scaler)"
   ]
  },
  {
   "cell_type": "code",
   "execution_count": 11,
   "metadata": {},
   "outputs": [],
   "source": [
    "# Incorrectly created a classifier (y_pred should have used X_test instead of X_train)\n",
    "classifier = LogisticRegression(penalty = 'l1', solver = 'liblinear', fit_intercept = True)\n",
    "classifier.fit(X_train_scaled, y_train)\n",
    "\n",
    "y_pred = classifier.predict(X_train_scaled)\n",
    "print(\"Accuracy on test set:\", accuracy_score(y_test, y_pred))\n",
    "print(classification_report(y_test, y_pred, target_names=class_names))"
   ]
  },
  {
   "cell_type": "code",
   "execution_count": 8,
   "metadata": {},
   "outputs": [
    {
     "name": "stdout",
     "output_type": "stream",
     "text": [
      "Accuracy on test set: 0.34755555555555556\n",
      "              precision    recall  f1-score   support\n",
      "\n",
      "    airplane       0.41      0.46      0.43      1800\n",
      "  automobile       0.40      0.41      0.40      1800\n",
      "        bird       0.27      0.23      0.25      1800\n",
      "         cat       0.22      0.21      0.22      1800\n",
      "        deer       0.31      0.29      0.30      1800\n",
      "         dog       0.28      0.28      0.28      1800\n",
      "        frog       0.34      0.37      0.35      1800\n",
      "       horse       0.37      0.36      0.36      1800\n",
      "        ship       0.45      0.49      0.47      1800\n",
      "       truck       0.38      0.38      0.38      1800\n",
      "\n",
      "    accuracy                           0.35     18000\n",
      "   macro avg       0.34      0.35      0.35     18000\n",
      "weighted avg       0.34      0.35      0.35     18000\n",
      "\n"
     ]
    }
   ],
   "source": [
    "# Made the necessary adjustments for the classifier\n",
    "classifier = LogisticRegression(penalty = 'l1', solver = 'liblinear', fit_intercept = True)\n",
    "classifier.fit(X_train_scaled, y_train)\n",
    "\n",
    "y_pred = classifier.predict(X_test_scaled)\n",
    "print(\"Accuracy on test set:\", accuracy_score(y_test, y_pred))\n",
    "print(classification_report(y_test, y_pred, target_names=class_names))"
   ]
  },
  {
   "cell_type": "code",
   "execution_count": 8,
   "metadata": {},
   "outputs": [
    {
     "name": "stdout",
     "output_type": "stream",
     "text": [
      "Accuracy on test set: 0.33505555555555555\n",
      "              precision    recall  f1-score   support\n",
      "\n",
      "    airplane       0.40      0.41      0.41      1800\n",
      "  automobile       0.39      0.39      0.39      1800\n",
      "        bird       0.24      0.22      0.23      1800\n",
      "         cat       0.23      0.22      0.22      1800\n",
      "        deer       0.29      0.28      0.28      1800\n",
      "         dog       0.26      0.26      0.26      1800\n",
      "        frog       0.33      0.35      0.34      1800\n",
      "       horse       0.38      0.37      0.38      1800\n",
      "        ship       0.43      0.47      0.45      1800\n",
      "       truck       0.37      0.37      0.37      1800\n",
      "\n",
      "    accuracy                           0.34     18000\n",
      "   macro avg       0.33      0.34      0.33     18000\n",
      "weighted avg       0.33      0.34      0.33     18000\n",
      "\n"
     ]
    }
   ],
   "source": [
    "# Used l2 penalty to handle multinomal loss\n",
    "classifier = LogisticRegression(penalty = 'l2', solver = 'liblinear', fit_intercept = True)\n",
    "classifier.fit(X_train_scaled, y_train)\n",
    "\n",
    "y_pred = classifier.predict(X_test_scaled)\n",
    "print(\"Accuracy on test set:\", accuracy_score(y_test, y_pred))\n",
    "print(classification_report(y_test, y_pred, target_names=class_names))"
   ]
  },
  {
   "cell_type": "code",
   "execution_count": 9,
   "metadata": {},
   "outputs": [
    {
     "name": "stderr",
     "output_type": "stream",
     "text": [
      "c:\\Users\\eceer\\miniconda3\\envs\\cs178\\lib\\site-packages\\sklearn\\linear_model\\_sag.py:350: ConvergenceWarning: The max_iter was reached which means the coef_ did not converge\n",
      "  warnings.warn(\n"
     ]
    },
    {
     "name": "stdout",
     "output_type": "stream",
     "text": [
      "Accuracy on test set: 0.37583333333333335\n",
      "              precision    recall  f1-score   support\n",
      "\n",
      "    airplane       0.44      0.47      0.45      1800\n",
      "  automobile       0.44      0.45      0.44      1800\n",
      "        bird       0.28      0.25      0.27      1800\n",
      "         cat       0.25      0.24      0.24      1800\n",
      "        deer       0.33      0.31      0.32      1800\n",
      "         dog       0.29      0.28      0.29      1800\n",
      "        frog       0.38      0.41      0.39      1800\n",
      "       horse       0.43      0.41      0.42      1800\n",
      "        ship       0.48      0.51      0.50      1800\n",
      "       truck       0.42      0.43      0.42      1800\n",
      "\n",
      "    accuracy                           0.38     18000\n",
      "   macro avg       0.37      0.38      0.37     18000\n",
      "weighted avg       0.37      0.38      0.37     18000\n",
      "\n"
     ]
    }
   ],
   "source": [
    "# Additionally used l2 penalty and sage solver to handle multinomal loss and a larger dataset\n",
    "classifier = LogisticRegression(penalty = 'l2', solver = 'saga', fit_intercept = True)\n",
    "classifier.fit(X_train_scaled, y_train)\n",
    "\n",
    "y_pred = classifier.predict(X_test_scaled)\n",
    "print(\"Accuracy on test set:\", accuracy_score(y_test, y_pred))\n",
    "print(classification_report(y_test, y_pred, target_names=class_names))"
   ]
  },
  {
   "cell_type": "code",
   "execution_count": 10,
   "metadata": {},
   "outputs": [
    {
     "name": "stderr",
     "output_type": "stream",
     "text": [
      "c:\\Users\\eceer\\miniconda3\\envs\\cs178\\lib\\site-packages\\sklearn\\linear_model\\_sag.py:350: ConvergenceWarning: The max_iter was reached which means the coef_ did not converge\n",
      "  warnings.warn(\n"
     ]
    },
    {
     "name": "stdout",
     "output_type": "stream",
     "text": [
      "Accuracy on test set: 0.3755\n",
      "              precision    recall  f1-score   support\n",
      "\n",
      "    airplane       0.44      0.47      0.45      1800\n",
      "  automobile       0.43      0.45      0.44      1800\n",
      "        bird       0.28      0.25      0.26      1800\n",
      "         cat       0.25      0.23      0.24      1800\n",
      "        deer       0.33      0.31      0.32      1800\n",
      "         dog       0.29      0.28      0.29      1800\n",
      "        frog       0.38      0.41      0.39      1800\n",
      "       horse       0.43      0.41      0.42      1800\n",
      "        ship       0.48      0.51      0.50      1800\n",
      "       truck       0.42      0.43      0.42      1800\n",
      "\n",
      "    accuracy                           0.38     18000\n",
      "   macro avg       0.37      0.38      0.37     18000\n",
      "weighted avg       0.37      0.38      0.37     18000\n",
      "\n"
     ]
    }
   ],
   "source": [
    "# Added the multi_class parameter\n",
    "classifier = LogisticRegression(multi_class='multinomial', solver='saga', fit_intercept = True)\n",
    "classifier.fit(X_train_scaled, y_train)\n",
    "\n",
    "y_pred = classifier.predict(X_test_scaled)\n",
    "print(\"Accuracy on test set:\", accuracy_score(y_test, y_pred))\n",
    "print(classification_report(y_test, y_pred, target_names=class_names))"
   ]
  },
  {
   "cell_type": "code",
   "execution_count": null,
   "metadata": {},
   "outputs": [],
   "source": []
  }
 ],
 "metadata": {
  "kernelspec": {
   "display_name": "Python 3",
   "language": "python",
   "name": "python3"
  },
  "language_info": {
   "codemirror_mode": {
    "name": "ipython",
    "version": 3
   },
   "file_extension": ".py",
   "mimetype": "text/x-python",
   "name": "python",
   "nbconvert_exporter": "python",
   "pygments_lexer": "ipython3",
   "version": "3.10.13"
  }
 },
 "nbformat": 4,
 "nbformat_minor": 2
}
