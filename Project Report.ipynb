{
 "cells": [
  {
   "cell_type": "code",
   "execution_count": 1,
   "metadata": {},
   "outputs": [
    {
     "name": "stdout",
     "output_type": "stream",
     "text": [
      "WARNING:tensorflow:From c:\\Users\\colin\\anaconda3\\lib\\site-packages\\keras\\src\\losses.py:2976: The name tf.losses.sparse_softmax_cross_entropy is deprecated. Please use tf.compat.v1.losses.sparse_softmax_cross_entropy instead.\n",
      "\n"
     ]
    }
   ],
   "source": [
    "from Notebooks.cifar10_import import *\n",
    "from collections import defaultdict\n",
    "from sklearn.metrics import confusion_matrix, ConfusionMatrixDisplay\n",
    "from sklearn.model_selection import cross_validate"
   ]
  },
  {
   "cell_type": "markdown",
   "metadata": {},
   "source": [
    "## \"Airplane\" or \"Banana\": Classifying CIFAR-10\n",
    "\n",
    "| Colin Yee, Reece Buyan, Ky-Vinh Mai"
   ]
  },
  {
   "cell_type": "markdown",
   "metadata": {},
   "source": [
    "#### Summary"
   ]
  },
  {
   "cell_type": "markdown",
   "metadata": {},
   "source": [
    "Our project is to create strategies to best classify images in the CIFAR-10 dataset using different classification models. Our classification models are:\n",
    "1. Logisitic Regression\n",
    "2. K-Nearest Neighbor\n",
    "3. Feedforward Neural Network\n",
    "4. Convolution Neural Network\n",
    "\n",
    "From our experiments we concluded that:\n",
    "- Logisitic Regression\n",
    "- K-Nearest Neighbor\n",
    "- Feedforward Neural Network\n",
    "- Convolution Neural Network"
   ]
  },
  {
   "cell_type": "markdown",
   "metadata": {},
   "source": [
    "#### Data Description"
   ]
  },
  {
   "cell_type": "markdown",
   "metadata": {},
   "source": [
    "**CIFAR-10** consists of 60,000 colored images (32 x 32). Each image is labeled with one of 10 mutually exclusive classes (airplane, automobile, bird, cat, deer, dog, frog, horse, ship, and truck) \n",
    "\n",
    "https://paperswithcode.com/dataset/cifar-10"
   ]
  },
  {
   "cell_type": "code",
   "execution_count": 2,
   "metadata": {},
   "outputs": [],
   "source": [
    "\"\"\"\n",
    "By default, there are 50,000 images in the training set and 10,000 images in the testing set.\n",
    "However, we will be combining these two sets to explore the entire dataset together.\n",
    "\"\"\"\n",
    "x_images, y_labels = importCifar10(\"combined\")"
   ]
  },
  {
   "cell_type": "markdown",
   "metadata": {},
   "source": [
    "Here are some facts about the CIFAR-10 dataset:"
   ]
  },
  {
   "cell_type": "code",
   "execution_count": 3,
   "metadata": {},
   "outputs": [
    {
     "data": {
      "text/plain": [
       "array([[[ 59,  62,  63],\n",
       "        [ 43,  46,  45],\n",
       "        [ 50,  48,  43],\n",
       "        ...,\n",
       "        [158, 132, 108],\n",
       "        [152, 125, 102],\n",
       "        [148, 124, 103]],\n",
       "\n",
       "       [[ 16,  20,  20],\n",
       "        [  0,   0,   0],\n",
       "        [ 18,   8,   0],\n",
       "        ...,\n",
       "        [123,  88,  55],\n",
       "        [119,  83,  50],\n",
       "        [122,  87,  57]],\n",
       "\n",
       "       [[ 25,  24,  21],\n",
       "        [ 16,   7,   0],\n",
       "        [ 49,  27,   8],\n",
       "        ...,\n",
       "        [118,  84,  50],\n",
       "        [120,  84,  50],\n",
       "        [109,  73,  42]],\n",
       "\n",
       "       ...,\n",
       "\n",
       "       [[208, 170,  96],\n",
       "        [201, 153,  34],\n",
       "        [198, 161,  26],\n",
       "        ...,\n",
       "        [160, 133,  70],\n",
       "        [ 56,  31,   7],\n",
       "        [ 53,  34,  20]],\n",
       "\n",
       "       [[180, 139,  96],\n",
       "        [173, 123,  42],\n",
       "        [186, 144,  30],\n",
       "        ...,\n",
       "        [184, 148,  94],\n",
       "        [ 97,  62,  34],\n",
       "        [ 83,  53,  34]],\n",
       "\n",
       "       [[177, 144, 116],\n",
       "        [168, 129,  94],\n",
       "        [179, 142,  87],\n",
       "        ...,\n",
       "        [216, 184, 140],\n",
       "        [151, 118,  84],\n",
       "        [123,  92,  72]]], dtype=uint8)"
      ]
     },
     "execution_count": 3,
     "metadata": {},
     "output_type": "execute_result"
    }
   ],
   "source": [
    "\"\"\"\n",
    "Each \"image\" in the dataset is a (32 x 32 x 3) numpy matrix. Each slot in the (32 x 32) represents a pixel.\n",
    "The 3-size array in each pixel represents an RGB color.\n",
    "\"\"\"\n",
    "x_images[0]"
   ]
  },
  {
   "cell_type": "code",
   "execution_count": 4,
   "metadata": {},
   "outputs": [
    {
     "name": "stdout",
     "output_type": "stream",
     "text": [
      "airplane 0\n",
      "automobile 1\n",
      "bird 2\n",
      "cat 3\n",
      "deer 4\n",
      "dog 5\n",
      "frog 6\n",
      "horse 7\n",
      "ship 8\n",
      "truck 9\n"
     ]
    }
   ],
   "source": [
    "\"\"\"\n",
    "The y_labels consists of 60,000 numbers from 0 to 9. Each number represents a different image label.\n",
    "\"\"\"\n",
    "class_names = ['airplane', 'automobile', 'bird', 'cat', 'deer', 'dog', 'frog', 'horse', 'ship', 'truck']\n",
    "y_uniq_labels = np.unique(y_labels)\n",
    "for c,y in zip(class_names,y_uniq_labels):\n",
    "    print(c,y)"
   ]
  },
  {
   "cell_type": "code",
   "execution_count": 5,
   "metadata": {},
   "outputs": [
    {
     "data": {
      "text/plain": [
       "<BarContainer object of 10 artists>"
      ]
     },
     "execution_count": 5,
     "metadata": {},
     "output_type": "execute_result"
    },
    {
     "data": {
      "image/png": "[encoded data removed]",
      "text/plain": [
       "<Figure size 900x350 with 1 Axes>"
      ]
     },
     "metadata": {},
     "output_type": "display_data"
    }
   ],
   "source": [
    "# Dataset contains same amount of images for each class\n",
    "y_distribution = defaultdict(int)\n",
    "for y in y_labels:\n",
    "    y_distribution[class_names[y]]+=1\n",
    "\n",
    "names = list(y_distribution.keys())\n",
    "values = list(y_distribution.values())\n",
    "\n",
    "fig = plt.figure(figsize=(9,3.5))\n",
    "plt.bar(names,values,width=0.5)"
   ]
  },
  {
   "cell_type": "code",
   "execution_count": 6,
   "metadata": {},
   "outputs": [
    {
     "data": {
      "image/png": "[encoded data removed]",
      "text/plain": [
       "<Figure size 1400x1400 with 5 Axes>"
      ]
     },
     "metadata": {},
     "output_type": "display_data"
    }
   ],
   "source": [
    "# Colors and backgrounds for each image may vary to some degree, but the object in each image follow a similar shape.\n",
    "# That doesn't mean color and background has little role in the classification process...[INSERT MORE]\n",
    "displayImages(5,x_images,y_labels,0)"
   ]
  },
  {
   "cell_type": "markdown",
   "metadata": {},
   "source": [
    "\"\"\"\n",
    "I tried to find the top 5 dominant colors in images of a certain class.\n",
    "But I don't think it's that accurate.\n",
    "\"\"\"\n",
    "from sklearn.cluster import KMeans\n",
    "\n",
    "def find_dominant_colors(images:np.array, num_colors = 5):\n",
    "    flattened_colors = [image.reshape(-1,3) for image in images]\n",
    "    combined_colors = np.concatenate(flattened_colors,axis=0)\n",
    "    kmeans = KMeans(n_clusters=num_colors,n_init='auto')\n",
    "    kmeans.fit(combined_colors)\n",
    "    print(\"-- Computed K-Nearest Neighbor Model\")\n",
    "    dominant_colors = kmeans.cluster_centers_.astype(int)\n",
    "    print(\"-- Determined Dominant Colors\")\n",
    "    return dominant_colors\n",
    "\n",
    "plt.figure(figsize=(15,15))\n",
    "i = 1\n",
    "for c in y_uniq_labels:\n",
    "    print(f\"{c}: {class_names[c]}\")\n",
    "    indices = np.where(y_labels == c)\n",
    "    X_c = x_images[indices]\n",
    "    dominant_colors = find_dominant_colors(X_c,3)\n",
    "    for r in dominant_colors:\n",
    "        plt.subplot(12,12,i)\n",
    "        plt.xticks([])\n",
    "        plt.yticks([])\n",
    "        plt.grid(False)\n",
    "        color = np.zeros((32, 32, 3), dtype=np.uint8)\n",
    "        color[:, :] = r\n",
    "        plt.imshow(color)\n",
    "        plt.title(class_names[c], fontsize=12)\n",
    "        i+=1"
   ]
  },
  {
   "cell_type": "markdown",
   "metadata": {},
   "source": [
    "#### Classifiers"
   ]
  },
  {
   "cell_type": "code",
   "execution_count": 7,
   "metadata": {},
   "outputs": [],
   "source": [
    "def create_train_test_sets(x,y,scaled=True,gray=False):\n",
    "    # Creating the training and testing sets (training is 60% of total)\n",
    "    X_train, X_test, y_train, y_test = train_test_split(x,y,test_size=0.6,stratify=y_labels,shuffle=True)\n",
    "\n",
    "    # Create Validation Set (50% of test set)\n",
    "    X_val, X_test, y_val, y_test = train_test_split(X_test,y_test,test_size=0.5,stratify=y_test,shuffle=True)\n",
    "\n",
    "    if gray == True: X_train, X_val, X_test = grayScaleData(X_train, X_val, X_test)\n",
    "    \n",
    "    X_train, X_val, X_test = flattenImageSet(X_train,gray),flattenImageSet(X_val,gray),flattenImageSet(X_test,gray)\n",
    "\n",
    "    if scaled == True:\n",
    "        X_train, scalar = scaleImages(X_train)\n",
    "        X_val = scaleImages(X_val,scalar)\n",
    "        X_test = scaleImages(X_test,scalar)\n",
    "\n",
    "    return (X_train, X_val, X_test, y_train, y_val, y_test)"
   ]
  },
  {
   "cell_type": "code",
   "execution_count": 8,
   "metadata": {},
   "outputs": [],
   "source": [
    "# Create datasets for models and validation\n",
    "X_train, X_val, X_test, y_train, y_val, y_test = create_train_test_sets(x_images,y_labels)\n",
    "X_cleaned, y_cleaned = np.vstack((X_train,X_val,X_test)),\\\n",
    "      np.hstack((y_train,y_val,y_test))\n",
    "X_test_only, y_test_only = np.vstack((X_val,X_test)),np.hstack((y_val,y_test))"
   ]
  },
  {
   "cell_type": "code",
   "execution_count": 9,
   "metadata": {},
   "outputs": [
    {
     "data": {
      "text/plain": [
       "(36000,)"
      ]
     },
     "execution_count": 9,
     "metadata": {},
     "output_type": "execute_result"
    }
   ],
   "source": [
    "y_test_only.shape"
   ]
  },
  {
   "cell_type": "markdown",
   "metadata": {},
   "source": [
    "*`K` Nearest Neighbor*"
   ]
  },
  {
   "cell_type": "code",
   "execution_count": 10,
   "metadata": {},
   "outputs": [],
   "source": [
    "from sklearn.neighbors import KNeighborsClassifier\n",
    "from sklearn.model_selection import GridSearchCV"
   ]
  },
  {
   "cell_type": "markdown",
   "metadata": {},
   "source": [
    "We trained the CIFAR-10 dataset on a K-Nearest Neighbor (kNN) Classifier. The kNN classifier works by calculating the distance between a new datapoint (e.g. image) and all the other data points in the training set. It finds the K nearest data points based on the distance and assigns the majority class (e.g. label) among these neighbors to the new data point."
   ]
  },
  {
   "cell_type": "markdown",
   "metadata": {},
   "source": [
    "The hyperparameters that we will be experimenting on is:\n",
    "* `n_neighbors` {x > 0, x <= size of dataset}: The number of neighbors closest to a new data point that will determine its class.\n",
    "* `weights` ['uniform', 'distance']: Weight/influence of neighbors in determining a point's class.\n",
    "\n",
    "\n",
    "In addition, I will be experimenting with the model and dataset configuation to determine what's best for the given dataset. These ideas are:\n",
    "1. Dimensionality Reduction (RBG vs Grayscaled images)\n",
    "2. Classification Reduction (1 Multi-Classification Model vs 10 Binary Classifcation Models)"
   ]
  },
  {
   "cell_type": "markdown",
   "metadata": {},
   "source": [
    "We will experiment [INSERT SETUP LIKE WITH TRAINING PARTITIONG AND ETC.]"
   ]
  },
  {
   "cell_type": "code",
   "execution_count": 11,
   "metadata": {},
   "outputs": [],
   "source": [
    "\"\"\"\n",
    "kNN Helper Functions\n",
    "\"\"\"\n",
    "def plot_error_knn():\n",
    "    pass\n",
    "def cross_validate_knn():\n",
    "    pass\n",
    "def compute_accuracy_knn(\n",
    "        x_train, x_test,\n",
    "        y_train, y_test,\n",
    "        conf_matrix = False,\n",
    "        c = None\n",
    "):\n",
    "    pass"
   ]
  },
  {
   "cell_type": "code",
   "execution_count": 12,
   "metadata": {},
   "outputs": [],
   "source": [
    "k_range = list(range(1, 10, 2))\n",
    "weight_options = ['uniform', 'distance']\n",
    "param_grid = dict(n_neighbors=k_range, weights=weight_options)"
   ]
  },
  {
   "cell_type": "code",
   "execution_count": 13,
   "metadata": {},
   "outputs": [],
   "source": [
    "knn = KNeighborsClassifier(n_neighbors=5)\n",
    "grid = GridSearchCV(knn, param_grid, cv=4, scoring='accuracy', return_train_score=False)\n",
    "grid.fit(X_cleaned,y_cleaned)"
   ]
  },
  {
   "cell_type": "code",
   "execution_count": null,
   "metadata": {},
   "outputs": [],
   "source": [
    "pd.DataFrame(grid.cv_results_)[['mean_test_score', 'std_test_score', 'params']]"
   ]
  },
  {
   "cell_type": "code",
   "execution_count": null,
   "metadata": {},
   "outputs": [],
   "source": [
    "print(grid.best_score_)\n",
    "print(grid.best_params_)"
   ]
  }
 ],
 "metadata": {
  "kernelspec": {
   "display_name": "base",
   "language": "python",
   "name": "python3"
  },
  "language_info": {
   "codemirror_mode": {
    "name": "ipython",
    "version": 3
   },
   "file_extension": ".py",
   "mimetype": "text/x-python",
   "name": "python",
   "nbconvert_exporter": "python",
   "pygments_lexer": "ipython3",
   "version": "3.10.11"
  }
 },
 "nbformat": 4,
 "nbformat_minor": 2
}
